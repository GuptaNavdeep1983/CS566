{
  "nbformat": 4,
  "nbformat_minor": 0,
  "metadata": {
    "colab": {
      "name": "Untitled41.ipynb",
      "provenance": [],
      "authorship_tag": "ABX9TyMsdBKPMEhUBsR6Du6bmX7P",
      "include_colab_link": true
    },
    "kernelspec": {
      "name": "python3",
      "display_name": "Python 3"
    },
    "language_info": {
      "name": "python"
    }
  },
  "cells": [
    {
      "cell_type": "markdown",
      "metadata": {
        "id": "view-in-github",
        "colab_type": "text"
      },
      "source": [
        "<a href=\"https://colab.research.google.com/github/GuptaNavdeep1983/CS566/blob/main/Assignment3.ipynb\" target=\"_parent\"><img src=\"https://colab.research.google.com/assets/colab-badge.svg\" alt=\"Open In Colab\"/></a>"
      ]
    },
    {
      "cell_type": "code",
      "metadata": {
        "id": "rFPvPhrkoYiY"
      },
      "source": [
        "class Solution:\n",
        "    def jobScheduling(self, startTime: [], endTime: [], profit: []) -> int:\n",
        "        L = [0] * len(startTime)\n",
        "        zipped = zip(startTime, endTime, profit)\n",
        "        startTime, endTime, profit = list(zip(*sorted(zipped)))\n",
        "        for i in range(0, len(startTime)):\n",
        "            earlier_profit = 0\n",
        "            for k in range(0,i):\n",
        "              if endTime[k] <= startTime[i]:\n",
        "                if (earlier_profit < L[k]):\n",
        "                  earlier_profit = L[k]\n",
        "            L[i] = profit[i] + earlier_profit\n",
        "        return max(L)"
      ],
      "execution_count": 97,
      "outputs": []
    },
    {
      "cell_type": "code",
      "metadata": {
        "colab": {
          "base_uri": "https://localhost:8080/"
        },
        "id": "Z3Mbeimtoe_O",
        "outputId": "13811532-0f89-42be-bbbe-e308200dbfcb"
      },
      "source": [
        "s = Solution()\n",
        "s.jobScheduling([6,15,7,11,1,3,16,2],\n",
        "[19,18,19,16,10,8,19,8],\n",
        "[2,9,1,19,5,7,3,19])"
      ],
      "execution_count": 98,
      "outputs": [
        {
          "output_type": "execute_result",
          "data": {
            "text/plain": [
              "41"
            ]
          },
          "metadata": {
            "tags": []
          },
          "execution_count": 98
        }
      ]
    }
  ]
}