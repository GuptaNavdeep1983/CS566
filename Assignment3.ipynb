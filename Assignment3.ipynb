{
  "nbformat": 4,
  "nbformat_minor": 0,
  "metadata": {
    "colab": {
      "name": "Untitled41.ipynb",
      "provenance": [],
      "authorship_tag": "ABX9TyMn1QZnPcSJWaVQxhaUWp2C",
      "include_colab_link": true
    },
    "kernelspec": {
      "name": "python3",
      "display_name": "Python 3"
    },
    "language_info": {
      "name": "python"
    }
  },
  "cells": [
    {
      "cell_type": "markdown",
      "metadata": {
        "id": "view-in-github",
        "colab_type": "text"
      },
      "source": [
        "<a href=\"https://colab.research.google.com/github/GuptaNavdeep1983/CS566/blob/main/Assignment3.ipynb\" target=\"_parent\"><img src=\"https://colab.research.google.com/assets/colab-badge.svg\" alt=\"Open In Colab\"/></a>"
      ]
    },
    {
      "cell_type": "code",
      "metadata": {
        "id": "EyIngG39IYYq"
      },
      "source": [
        "# Sort the zipped lists using quick sort\n",
        "# example [(6, 19, 2), (15, 18, 9), (7, 19, 1), (11, 16, 19), (1, 10, 5), (3, 8, 7), (16, 19, 3), (2, 8, 19)]\n",
        "def sort(array):\n",
        "    less = []\n",
        "    equal = []\n",
        "    greater = []\n",
        "\n",
        "    if len(array) > 1:\n",
        "        pivot = array[0][0]\n",
        "        for x in array:\n",
        "            if x[0] < pivot:\n",
        "                less.append(x)\n",
        "            elif x[0] == pivot:\n",
        "                equal.append(x)\n",
        "            elif x[0] > pivot:\n",
        "                greater.append(x)\n",
        "        return sort(less)+equal+sort(greater)\n",
        "    else:\n",
        "        return array"
      ],
      "execution_count": 94,
      "outputs": []
    },
    {
      "cell_type": "code",
      "metadata": {
        "id": "rFPvPhrkoYiY"
      },
      "source": [
        "import concurrent.futures\n",
        "import numpy\n",
        "import time\n",
        "\n",
        "def find_all_subproblems(startTime, endTime, i):\n",
        "  return [k for k in range(0, i) if endTime[k] <= startTime[i]]\n",
        "\n",
        "class Solution:\n",
        "    def jobScheduling(self, startTime: [], endTime: [], profit: []) -> int:\n",
        "        # initialize values for all positions\n",
        "        L = [0] * len(startTime)\n",
        "        # zip together all the lists\n",
        "        zipped = zip(startTime, endTime, profit)\n",
        "        # sort the zipped list together using quick sort\n",
        "        sorted_list = sort(list(zipped))\n",
        "        # unzip the sorted list\n",
        "        startTime, endTime, profit = list(zip(*sorted_list))\n",
        "        # store all the threads\n",
        "        threads = []\n",
        "        # Iterate through all the jobs\n",
        "        for i in range(0, len(startTime)):\n",
        "            # find all subproblems concurrently and store the threads\n",
        "            with concurrent.futures.ThreadPoolExecutor() as executor:\n",
        "              execution_result = executor.submit(find_all_subproblems, startTime, endTime, i)\n",
        "              threads.append(execution_result)\n",
        "        # iterate through all the jobs again with only selected subproblems meeting the criteria\n",
        "        for i in range(0, len(startTime)):\n",
        "            subproblems = threads[i].result()\n",
        "            # find the max value from subproblems iteratively\n",
        "            max_profit = max([L[k] for index, k in enumerate(subproblems)], default=0)\n",
        "            L[i] = profit[i] + max_profit\n",
        "        return max(L)"
      ],
      "execution_count": 113,
      "outputs": []
    },
    {
      "cell_type": "code",
      "metadata": {
        "colab": {
          "base_uri": "https://localhost:8080/"
        },
        "id": "Z3Mbeimtoe_O",
        "outputId": "a7e027ef-5e66-4278-fd5a-29f99951b533"
      },
      "source": [
        "import time\n",
        "start = time.time()\n",
        "\n",
        "s = Solution()\n",
        "print(s.jobScheduling([6,15,7,11,1,3,16,2],\n",
        "[19,18,19,16,10,8,19,8],\n",
        "[2,9,1,19,5,7,3,19]))\n",
        "end = time.time()\n",
        "print(end - start)"
      ],
      "execution_count": 114,
      "outputs": [
        {
          "output_type": "stream",
          "text": [
            "41\n",
            "0.005194664001464844\n"
          ],
          "name": "stdout"
        }
      ]
    },
    {
      "cell_type": "code",
      "metadata": {
        "id": "bI2wVIIYKsFw"
      },
      "source": [
        "# solution without concurrency\n",
        "\n",
        "class Solution:\n",
        "    def jobScheduling(self, startTime: [], endTime: [], profit: []) -> int:\n",
        "        L = [0] * len(startTime)\n",
        "        zipped = zip(startTime, endTime, profit)\n",
        "        startTime, endTime, profit = list(zip(*sorted(zipped)))\n",
        "        for i in range(0, len(startTime)):\n",
        "            max_profit = max([L[k] for k in range(0,i) if endTime[k] <= startTime[i]], default=0)\n",
        "            L[i] = profit[i] + max_profit\n",
        "        return max(L)"
      ],
      "execution_count": null,
      "outputs": []
    }
  ]
}