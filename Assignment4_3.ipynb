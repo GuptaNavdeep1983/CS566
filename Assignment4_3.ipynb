{
  "nbformat": 4,
  "nbformat_minor": 0,
  "metadata": {
    "colab": {
      "name": "Assignment4-3.ipynb",
      "provenance": [],
      "authorship_tag": "ABX9TyMB+VPjkjb6YTgRC9P7UUGK",
      "include_colab_link": true
    },
    "kernelspec": {
      "name": "python3",
      "display_name": "Python 3"
    },
    "language_info": {
      "name": "python"
    }
  },
  "cells": [
    {
      "cell_type": "markdown",
      "metadata": {
        "id": "view-in-github",
        "colab_type": "text"
      },
      "source": [
        "<a href=\"https://colab.research.google.com/github/GuptaNavdeep1983/CS566/blob/main/Assignment4_3.ipynb\" target=\"_parent\"><img src=\"https://colab.research.google.com/assets/colab-badge.svg\" alt=\"Open In Colab\"/></a>"
      ]
    },
    {
      "cell_type": "code",
      "metadata": {
        "colab": {
          "base_uri": "https://localhost:8080/"
        },
        "id": "SIdabQLzjA6U",
        "outputId": "f7e53677-f365-4e13-f128-d0b9b9c90a9e"
      },
      "source": [
        "import pandas as pd\n",
        "import numpy as np\n",
        "def find_optimal_value_of_state(states, rewards, actions, state_transitions):\n",
        "  val = {state:0 for idx, state in enumerate(states)}\n",
        "  threshold=1e-4\n",
        "  val[\"T\"] = 0\n",
        "  gamma=0.9\n",
        "  while True:\n",
        "    max_change = 0\n",
        "    for state_idx, state in enumerate(states):\n",
        "      old_value = val[state]\n",
        "      new_val = float(\"-inf\")\n",
        "      for action_idx, action in enumerate(actions):\n",
        "        tmp_val = rewards[state] + gamma*(val[state_transitions.loc[state][action]])\n",
        "        if tmp_val > new_val:\n",
        "          new_val = tmp_val\n",
        "      val[state] = new_val\n",
        "      max_change = max(max_change, np.abs(old_value-val[state]))\n",
        "    print(\"Run\")\n",
        "    if max_change < threshold:\n",
        "      break\n",
        "  return val\n",
        "\n",
        "states = [\"S1\",\"S2\", \"S3\", \"S4\", \"S5\", \"S6\", \"S7\"]\n",
        "actions = [\"A1\", \"A2\"]\n",
        "state_transitions = [[\"T\", \"T\"], [\"S1\", \"S3\"], [\"S2\", \"S4\"], [\"S3\", \"S5\"], [\"S4\", \"S6\"], [\"S5\", \"S7\"], [\"T\", \"T\"]]\n",
        "state_transitions_df = pd.DataFrame(state_transitions, index=states, columns=actions)\n",
        "rewards = {\"S1\":1, \"S2\": 0, \"S3\": 0, \"S4\": 0, \"S5\": 0, \"S6\": 0, \"S7\":10}\n",
        "print(find_optimal_value_of_state(states, rewards, actions, state_transitions_df))\n"
      ],
      "execution_count": 55,
      "outputs": [
        {
          "output_type": "stream",
          "text": [
            "Run\n",
            "Run\n",
            "Run\n",
            "Run\n",
            "Run\n",
            "Run\n",
            "Run\n",
            "{'S1': 1.0, 'S2': 5.9049000000000005, 'S3': 6.561, 'S4': 7.29, 'S5': 8.1, 'S6': 9.0, 'S7': 10.0, 'T': 0}\n"
          ],
          "name": "stdout"
        }
      ]
    },
    {
      "cell_type": "code",
      "metadata": {
        "id": "tsONwus_3sCb"
      },
      "source": [
        ""
      ],
      "execution_count": null,
      "outputs": []
    }
  ]
}