{
  "nbformat": 4,
  "nbformat_minor": 0,
  "metadata": {
    "colab": {
      "name": "Assignment4-2.ipynb",
      "provenance": [],
      "collapsed_sections": [],
      "authorship_tag": "ABX9TyOFyluG/Knr7V4HvLwE8sNU",
      "include_colab_link": true
    },
    "kernelspec": {
      "name": "python3",
      "display_name": "Python 3"
    },
    "language_info": {
      "name": "python"
    }
  },
  "cells": [
    {
      "cell_type": "markdown",
      "metadata": {
        "id": "view-in-github",
        "colab_type": "text"
      },
      "source": [
        "<a href=\"https://colab.research.google.com/github/GuptaNavdeep1983/CS566/blob/main/Assignment4_2.ipynb\" target=\"_parent\"><img src=\"https://colab.research.google.com/assets/colab-badge.svg\" alt=\"Open In Colab\"/></a>"
      ]
    },
    {
      "cell_type": "code",
      "metadata": {
        "id": "IJo00S-uaN8t"
      },
      "source": [
        "import numpy as np\n",
        "class Solution:\n",
        "  def find_optimal_value(self, performance_percentages, fees_to_switch):\n",
        "    #Using the Performance of first year as average\n",
        "    fundwise_average = [float(x) for x in performance_percentages[:,0]]\n",
        "    # iterate through all the years\n",
        "    for col_index, column in enumerate(performance_percentages.T):\n",
        "      # skip first year\n",
        "      if col_index != 0:\n",
        "        # update the overall fundwise average of each fund based on the maximum performance attained in current year\n",
        "        # either by keeping the same portfolio or switching to a better one after deducting the fees to switch the fund\n",
        "        for fund_index, fund_performance in enumerate(column):\n",
        "          #Previous fund value if changed the fund\n",
        "          #deducted the fees \n",
        "          current_fund_value = float(fundwise_average[fund_index]) - fees_to_switch[fund_index]\n",
        "          # iterate through all the funds to find the new max value considering the option to switch to another fund \n",
        "          # or keep the same fund\n",
        "          fundwise_average[fund_index] = find_max([str((float(current_fund_value) + float(fund_perf))/2) if fund_index != fund_indx else str((float(fundwise_average[fund_index]) + float(fund_perf))/2) for fund_indx, fund_perf in enumerate(column)])\n",
        "        print(fundwise_average)\n",
        "    print(fundwise_average)\n"
      ],
      "execution_count": 208,
      "outputs": []
    },
    {
      "cell_type": "code",
      "metadata": {
        "colab": {
          "base_uri": "https://localhost:8080/"
        },
        "id": "8TKu4-ScbEo7",
        "outputId": "dc4f3957-43aa-41a3-fc2d-2fc6e619b1ba"
      },
      "source": [
        "performance_percentages = np.array([[10,11,10,14,13,12], [9,8,7,10,28,10]])\n",
        "fees_to_switch = [7,4]\n",
        "s = Solution()\n",
        "s.find_optimal_value(performance_percentages, fees_to_switch)"
      ],
      "execution_count": 207,
      "outputs": [
        {
          "output_type": "stream",
          "text": [
            "[[10 11 10 14 13 12]\n",
            " [ 9  8  7 10 28 10]]\n",
            "The original list is : ['10.5', '5.5']\n",
            "The original list is : ['8.0', '8.5']\n",
            "['10.5', '8.5']\n",
            "The original list is : ['10.25', '5.25']\n",
            "The original list is : ['7.25', '7.75']\n",
            "['10.25', '7.75']\n",
            "The original list is : ['12.125', '6.625']\n",
            "The original list is : ['8.875', '8.875']\n",
            "['12.125', '8.875']\n",
            "The original list is : ['12.5625', '16.5625']\n",
            "The original list is : ['8.9375', '18.4375']\n",
            "['16.5625', '18.4375']\n",
            "The original list is : ['14.28125', '9.78125']\n",
            "The original list is : ['13.21875', '14.21875']\n",
            "['14.28125', '14.21875']\n",
            "['14.28125', '14.21875']\n"
          ],
          "name": "stdout"
        }
      ]
    },
    {
      "cell_type": "code",
      "metadata": {
        "id": "zBdxokQXIWgR"
      },
      "source": [
        "def find_max(input_list):\n",
        "  # printing original list\n",
        "  print(\"The original list is : \" + str(input_list))\n",
        "  \n",
        "  return max(input_list,key=lambda x:float(x))"
      ],
      "execution_count": 203,
      "outputs": []
    },
    {
      "cell_type": "code",
      "metadata": {
        "colab": {
          "base_uri": "https://localhost:8080/"
        },
        "id": "d2JwkN2WJOkU",
        "outputId": "62a7e1dd-f734-4252-e9c9-ae895154238b"
      },
      "source": [
        "test_list = ['4.5', '7.8', '9.8', '10.5']\n",
        "print(find_max(test_list))"
      ],
      "execution_count": 123,
      "outputs": [
        {
          "output_type": "stream",
          "text": [
            "The original list is : ['4.5', '7.8', '9.8', '10.5']\n",
            "10.5\n"
          ],
          "name": "stdout"
        }
      ]
    },
    {
      "cell_type": "code",
      "metadata": {
        "id": "LUXw1HCLJKBh"
      },
      "source": [
        ""
      ],
      "execution_count": null,
      "outputs": []
    }
  ]
}