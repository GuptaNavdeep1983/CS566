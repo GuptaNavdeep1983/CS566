{
  "nbformat": 4,
  "nbformat_minor": 0,
  "metadata": {
    "colab": {
      "name": "Untitled45.ipynb",
      "provenance": [],
      "authorship_tag": "ABX9TyOjRNsc0RZrVjTw8d67UyZA",
      "include_colab_link": true
    },
    "kernelspec": {
      "name": "python3",
      "display_name": "Python 3"
    },
    "language_info": {
      "name": "python"
    }
  },
  "cells": [
    {
      "cell_type": "markdown",
      "metadata": {
        "id": "view-in-github",
        "colab_type": "text"
      },
      "source": [
        "<a href=\"https://colab.research.google.com/github/GuptaNavdeep1983/CS566/blob/main/Lab5-DynamicProgramming-RodCutting.ipynb\" target=\"_parent\"><img src=\"https://colab.research.google.com/assets/colab-badge.svg\" alt=\"Open In Colab\"/></a>"
      ]
    },
    {
      "cell_type": "code",
      "metadata": {
        "id": "Zd7jwmdbQeHF"
      },
      "source": [
        "import numpy as np\n",
        "MAX_CUT = 0\n",
        "MAX_REVNU = 1\n",
        "def GetMaxValues(i, somePrices, maxI):\n",
        "  max_length = max(somePrices.keys())\n",
        "  temp_value = 0\n",
        "  biggest_cut = 0\n",
        "  k = 0\n",
        "  while(k <= max_length):\n",
        "    if i-k in somePrices.keys():\n",
        "      temp_value = maxI[k][MAX_VALUE] + somePrices[i-k]\n",
        "      biggest_cut = max(maxI[k][MAX_CUT], i-k)\n",
        "    else:\n",
        "      temp_value = maxI[k][MAX_VALUE] + maxI[i-k][MAX_VALUE]\n",
        "      biggest_cut = max(maxI[k][MAX_CUT], maxI[i-k][MAX_CUT])\n",
        "\n",
        "    if temp_value > maxI[i][MAX_VALUE]:\n",
        "      maxI[i][MAX_VALUE] = temp_value \n",
        "      maxI[i][MAX_CUT] = biggest_cut\n",
        "    k = k+1\n",
        "  return maxI\n",
        "\n",
        "def GetDPSol(somePrices, rodLength):\n",
        "  maxI = np.zeros((rodLength+1, 2))\n",
        "  for i in range(0, rodLength+1):\n",
        "    maxI = GetMaxValues(i, somePrices, maxI)\n",
        "  return maxI"
      ],
      "execution_count": 26,
      "outputs": []
    },
    {
      "cell_type": "code",
      "metadata": {
        "id": "Hl3m4fMYUEOj",
        "colab": {
          "base_uri": "https://localhost:8080/"
        },
        "outputId": "8ed46354-6400-4d9f-96c5-bccce453df44"
      },
      "source": [
        "print(\"===============Test Case 1=========================\")\n",
        "maxValsA = GetDPSol({0:0, 1:1, 2:2, 3:4,4:2,5:1}, 30)\n",
        "assert 0==maxValsA[0][MAX_REVNU], \"FALSE\"\n",
        "assert 0==maxValsA[0][MAX_CUT], \"FALSE\"\n",
        "assert 0==maxValsA[0][MAX_REVNU], \"FALSE\"\n",
        "assert 1==maxValsA[1][MAX_REVNU], \"FALSE\"\n",
        "assert 1==maxValsA[1][MAX_CUT], \"FALSE\"\n",
        "assert 4==maxValsA[3][MAX_REVNU], \"FALSE\"\n",
        "assert 3==maxValsA[3][MAX_CUT], \"FALSE\"\n",
        "assert 5==maxValsA[4][MAX_REVNU], \"FALSE\"\n",
        "assert 3==maxValsA[4][MAX_CUT], \"FALSE\"\n",
        "print(\"===============Test Case 2=========================\")\n",
        "maxValsA = GetDPSol({1:1, 2:3, 3:4,4:2,5:1,6:8,7:2}, 7)\n",
        "assert 4==maxValsA[3][MAX_REVNU], \"FALSE\"\n",
        "assert 3==maxValsA[3][MAX_CUT], \"FALSE\"\n",
        "assert 10==maxValsA[7][MAX_REVNU], \"FALSE\"\n",
        "assert 3==maxValsA[7][MAX_CUT], \"FALSE\"\n",
        "print(\"===============Test Case 3=========================\")\n",
        "maxValsA = GetDPSol({0:0,1:1, 2:3, 3:4,4:2,5:1,6:12,7:1,8:12}, 10)\n",
        "assert 15==maxValsA[8][MAX_REVNU], \"FALSE\"\n",
        "assert 6==maxValsA[8][MAX_CUT], \"FALSE\"\n",
        "print(\"===============Test Case 4=========================\")\n",
        "maxValsA = GetDPSol({0:0,1:1, 2:2, 3:3,4:4,5:5,6:6,7:7,8:8}, 10)\n",
        "assert 8==maxValsA[8][MAX_REVNU], \"FALSE\"\n",
        "assert 8==maxValsA[8][MAX_CUT], \"FALSE\"\n",
        "print(\"===============Test Case 5=========================\")\n",
        "maxValsA = GetDPSol({0:0,1:1, 2:2, 3:3,4:1,5:5,6:6,7:7,8:8}, 10)\n",
        "assert 8==maxValsA[8][MAX_REVNU], \"FALSE\"\n",
        "assert 8==maxValsA[8][MAX_CUT], \"FALSE\"\n",
        "print(\"===============Test Case 6=========================\")\n",
        "maxValsA = GetDPSol({0:0,1:1, 2:1, 3:1,4:1,5:1,6:1,7:1,8:1}, 10)\n",
        "assert 8==maxValsA[8][MAX_REVNU], \"FALSE\"\n",
        "assert 1==maxValsA[8][MAX_CUT], \"FALSE\"\n",
        "print(\"===============Test Case 7=========================\")\n",
        "maxValsA = GetDPSol({0:0,1:0, 2:0, 3:0}, 10)\n",
        "assert 0==maxValsA[3][MAX_REVNU], \"FALSE\""
      ],
      "execution_count": 41,
      "outputs": [
        {
          "output_type": "stream",
          "text": [
            "===============Test Case 1=========================\n",
            "===============Test Case 2=========================\n",
            "===============Test Case 3=========================\n",
            "===============Test Case 4=========================\n",
            "===============Test Case 5=========================\n",
            "===============Test Case 6=========================\n",
            "===============Test Case 7=========================\n"
          ],
          "name": "stdout"
        }
      ]
    }
  ]
}