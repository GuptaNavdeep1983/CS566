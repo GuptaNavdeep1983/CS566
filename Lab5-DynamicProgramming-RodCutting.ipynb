{
  "nbformat": 4,
  "nbformat_minor": 0,
  "metadata": {
    "colab": {
      "name": "Untitled45.ipynb",
      "provenance": [],
      "authorship_tag": "ABX9TyPI4V3dgcJI8z11WK3XliPp",
      "include_colab_link": true
    },
    "kernelspec": {
      "name": "python3",
      "display_name": "Python 3"
    },
    "language_info": {
      "name": "python"
    }
  },
  "cells": [
    {
      "cell_type": "markdown",
      "metadata": {
        "id": "view-in-github",
        "colab_type": "text"
      },
      "source": [
        "<a href=\"https://colab.research.google.com/github/GuptaNavdeep1983/CS566/blob/main/Lab5-DynamicProgramming-RodCutting.ipynb\" target=\"_parent\"><img src=\"https://colab.research.google.com/assets/colab-badge.svg\" alt=\"Open In Colab\"/></a>"
      ]
    },
    {
      "cell_type": "code",
      "metadata": {
        "id": "Zd7jwmdbQeHF"
      },
      "source": [
        "import numpy as np\n",
        "MAX_CUT = 0\n",
        "MAX_VALUE = 1\n",
        "def GetMaxValues(i, somePrices, maxI):\n",
        "  max_length = max(somePrices.keys())\n",
        "  temp_value = 0\n",
        "  biggest_cut = 0\n",
        "  k = 0\n",
        "  while(k <= max_length):\n",
        "    if i-k in somePrices.keys():\n",
        "      temp_value = maxI[k][MAX_VALUE] + somePrices[i-k]\n",
        "      biggest_cut = max(maxI[k][MAX_CUT], i-k)\n",
        "    else:\n",
        "      temp_value = maxI[k][MAX_VALUE] + maxI[i-k][MAX_VALUE]\n",
        "      biggest_cut = max(maxI[k][MAX_CUT], maxI[i-k][MAX_CUT])\n",
        "\n",
        "    if temp_value > maxI[i][MAX_VALUE]:\n",
        "      maxI[i][MAX_VALUE] = temp_value \n",
        "      maxI[i][MAX_CUT] = biggest_cut\n",
        "    k = k+1\n",
        "  return maxI\n",
        "\n",
        "def GetDPSol(somePrices, rodLength):\n",
        "  maxI = np.zeros((rodLength+1, 2))\n",
        "  for i in range(0, rodLength+1):\n",
        "    maxI = GetMaxValues(i, somePrices, maxI)\n",
        "  return maxI"
      ],
      "execution_count": 14,
      "outputs": []
    },
    {
      "cell_type": "code",
      "metadata": {
        "id": "Hl3m4fMYUEOj"
      },
      "source": [
        "\n",
        "maxI = GetDPSol({1:1, 2:5, 3:8,4:9,5:10,6:17,7:17,8:20}, 30)"
      ],
      "execution_count": 18,
      "outputs": []
    },
    {
      "cell_type": "code",
      "metadata": {
        "colab": {
          "base_uri": "https://localhost:8080/"
        },
        "id": "Okl8eN18U4q_",
        "outputId": "b427bb7b-1067-43b0-864a-a2dbe4cc5f5e"
      },
      "source": [
        "# maxI = GetDPSol({0:0,1:1, 2:1, 3:1,4:1,5:1,6:1,7:1,8:1}, 10)\n",
        "maxI\n"
      ],
      "execution_count": 19,
      "outputs": [
        {
          "output_type": "execute_result",
          "data": {
            "text/plain": [
              "array([[ 0.,  0.],\n",
              "       [ 1.,  1.],\n",
              "       [ 2.,  5.],\n",
              "       [ 3.,  8.],\n",
              "       [ 2., 10.],\n",
              "       [ 3., 13.],\n",
              "       [ 6., 17.],\n",
              "       [ 6., 18.],\n",
              "       [ 6., 22.],\n",
              "       [ 6., 25.],\n",
              "       [ 6., 27.],\n",
              "       [ 6., 30.],\n",
              "       [ 6., 34.],\n",
              "       [ 6., 35.],\n",
              "       [ 6., 39.],\n",
              "       [ 6., 42.],\n",
              "       [ 6., 44.],\n",
              "       [ 6., 47.],\n",
              "       [ 6., 51.],\n",
              "       [ 6., 52.],\n",
              "       [ 6., 56.],\n",
              "       [ 6., 59.],\n",
              "       [ 6., 61.],\n",
              "       [ 6., 64.],\n",
              "       [ 6., 68.],\n",
              "       [ 6., 69.],\n",
              "       [ 6., 73.],\n",
              "       [ 6., 76.],\n",
              "       [ 6., 78.],\n",
              "       [ 6., 81.],\n",
              "       [ 6., 85.]])"
            ]
          },
          "metadata": {
            "tags": []
          },
          "execution_count": 19
        }
      ]
    }
  ]
}