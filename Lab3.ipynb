{
  "nbformat": 4,
  "nbformat_minor": 0,
  "metadata": {
    "colab": {
      "name": "Untitled36.ipynb",
      "provenance": [],
      "authorship_tag": "ABX9TyPpaME0B82YKGcgPGeZX3tn",
      "include_colab_link": true
    },
    "kernelspec": {
      "name": "python3",
      "display_name": "Python 3"
    },
    "language_info": {
      "name": "python"
    }
  },
  "cells": [
    {
      "cell_type": "markdown",
      "metadata": {
        "id": "view-in-github",
        "colab_type": "text"
      },
      "source": [
        "<a href=\"https://colab.research.google.com/github/GuptaNavdeep1983/CS566/blob/main/Lab3.ipynb\" target=\"_parent\"><img src=\"https://colab.research.google.com/assets/colab-badge.svg\" alt=\"Open In Colab\"/></a>"
      ]
    },
    {
      "cell_type": "code",
      "metadata": {
        "id": "dN8HD5byFARG"
      },
      "source": [
        "import math\n",
        "def find_leftmost_in_sorted_array(a_double, an_array, a_begin_index, an_end_index):\n",
        "  return_index = -1\n",
        "  # print(\"indexes: %d, %d\"% (a_begin_index, an_end_index))\n",
        "  # check if found the element, assign the indexes, end index first , followed by begin index \n",
        "  if(a_double == an_array[an_end_index]):\n",
        "    return_index = an_end_index\n",
        "  if(a_double == an_array[a_begin_index]):\n",
        "    return_index = a_begin_index\n",
        "  \n",
        "  if((a_begin_index == an_end_index) or abs(a_begin_index-an_end_index) == 1 ):\n",
        "    return return_index\n",
        "\n",
        "  # find the middle\n",
        "  mid = math.floor((a_begin_index + an_end_index)/2)\n",
        "\n",
        "  # if middle is less than equal to middle, continue searching in left side \n",
        "  if(an_array[mid] < a_double):\n",
        "    return_index = find_leftmost_in_sorted_array(a_double, an_array, mid+1, an_end_index)\n",
        "  else:\n",
        "    return_index = find_leftmost_in_sorted_array(a_double, an_array, a_begin_index, mid)\n",
        "\n",
        "  return return_index\n",
        "\n",
        "def find_rightmost_in_sorted_array(a_double, an_array, a_begin_index, an_end_index):\n",
        "  return_index = -1\n",
        "  # print(\"indexes: %d, %d\"% (a_begin_index, an_end_index))\n",
        "  # check if found the element, assign the indexes, begin index first , followed by end index\n",
        "  if(a_double == an_array[a_begin_index]):\n",
        "    return_index = a_begin_index\n",
        "  if(a_double == an_array[an_end_index]):\n",
        "    return_index = an_end_index\n",
        "  \n",
        "  if((a_begin_index == an_end_index) or abs(a_begin_index-an_end_index) == 1 ):\n",
        "    return return_index\n",
        "  # find the middle\n",
        "  mid = math.floor((a_begin_index + an_end_index)/2)\n",
        "\n",
        "  # if middle is less than equal to middle, continue searching in right side\n",
        "  if(an_array[mid] <= a_double):\n",
        "    return_index = find_rightmost_in_sorted_array(a_double, an_array, mid, an_end_index)\n",
        "  else:\n",
        "    return_index = find_rightmost_in_sorted_array(a_double, an_array, a_begin_index, mid-1)\n",
        "\n",
        "  return return_index\n",
        "\n",
        "\n",
        "def find_in_sorted_array(a_double, an_array, a_begin_index, an_end_index):\n",
        "  left_index = find_leftmost_in_sorted_array(a_double, an_array, a_begin_index, an_end_index)\n",
        "  right_index = find_rightmost_in_sorted_array(a_double, an_array, a_begin_index, an_end_index)\n",
        "  return(left_index, right_index)"
      ],
      "execution_count": null,
      "outputs": []
    },
    {
      "cell_type": "code",
      "metadata": {
        "colab": {
          "base_uri": "https://localhost:8080/"
        },
        "id": "SnvALqb2u6OU",
        "outputId": "16df6a54-3486-4170-b430-f0089c1a3851"
      },
      "source": [
        "print(\"2 <-->\", find_in_sorted_array(77, [44, 55, 77, 88], 0, 3))\n",
        "print(\"3 <-->\", find_in_sorted_array(77, [44, 55, 66, 77, 77, 88], 0, 5))\n",
        "print(\"1 <-->\", find_in_sorted_array(77, [44, 77, 77, 77, 77, 88], 0, 5))\n",
        "print(\"-1 <-->\", find_in_sorted_array(771, [44, 55, 66, 77, 77, 88], 0, 5))\n",
        "print(\"-1 <-->\", find_in_sorted_array(77, [44], 0, 0))\n",
        "print(\"0 <-->\", find_in_sorted_array(44, [44], 0, 0))\n",
        "print(\"-1 <-->\", find_in_sorted_array(22, [44, 55, 66, 77, 77, 88], 0, 5))\n",
        "print(\"0 <-->\", find_in_sorted_array(22, [22, 44, 55, 66, 77, 77, 88], 0, 5))\n",
        "print(\"1 <-->\", find_in_sorted_array(22, [11, 22, 22, 22, 44, 55, 66, 77, 77, 88], 0, 5))\n",
        "print(\"9 <-->\", find_in_sorted_array(88, [11, 22, 22, 22, 44, 55, 66, 77, 77, 88], 0, 9))\n"
      ],
      "execution_count": null,
      "outputs": [
        {
          "output_type": "stream",
          "text": [
            "2 <--> (2, 2)\n",
            "3 <--> (3, 4)\n",
            "1 <--> (1, 4)\n",
            "-1 <--> (-1, -1)\n",
            "-1 <--> (-1, -1)\n",
            "0 <--> (0, 0)\n",
            "-1 <--> (-1, -1)\n",
            "0 <--> (0, 0)\n",
            "1 <--> (1, 3)\n",
            "9 <--> (9, 9)\n"
          ],
          "name": "stdout"
        }
      ]
    }
  ]
}